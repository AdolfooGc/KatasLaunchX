{
 "cells": [
  {
   "cell_type": "code",
   "execution_count": 19,
   "metadata": {},
   "outputs": [
    {
     "name": "stdout",
     "output_type": "stream",
     "text": [
      "!Peligro¡ Un asteroide se acerca a la Tierra\n"
     ]
    }
   ],
   "source": [
    "#Ejercicio 1\n",
    "\n",
    "asteroide = 49\n",
    "if asteroide > 25:\n",
    " print(\"!Peligro¡ Un asteroide se acerca a la Tierra\") \n",
    "else:\n",
    " print(\"!Todo excelente¡\")\n"
   ]
  },
  {
   "cell_type": "code",
   "execution_count": 20,
   "metadata": {},
   "outputs": [
    {
     "name": "stdout",
     "output_type": "stream",
     "text": [
      "!Todo excelente¡\n"
     ]
    }
   ],
   "source": [
    "asteroide = 49\n",
    "if asteroide > 50:\n",
    " print(\"!Peligro¡ Un asteroide se acerca a la Tierra\") \n",
    "else:\n",
    " print(\"!Todo excelente¡\")"
   ]
  },
  {
   "cell_type": "code",
   "execution_count": 21,
   "metadata": {},
   "outputs": [
    {
     "name": "stdout",
     "output_type": "stream",
     "text": [
      "!Todo excelente¡\n"
     ]
    }
   ],
   "source": [
    "#Ejercicio 2\n",
    "\n",
    "asteroide = 19\n",
    "if asteroide >= 20:\n",
    "    print(\"Miren la luz del cielo\")\n",
    "elif asteroide == 20:\n",
    "    print(\"Miren la luz del cielo\")\n",
    "else:\n",
    "    print(\"!Todo excelente¡\")\n",
    "\n"
   ]
  },
  {
   "cell_type": "code",
   "execution_count": 22,
   "metadata": {},
   "outputs": [
    {
     "name": "stdout",
     "output_type": "stream",
     "text": [
      "Miren la luz del cielo\n"
     ]
    }
   ],
   "source": [
    "asteroide = 21\n",
    "if asteroide >= 20:\n",
    "    print(\"Miren la luz del cielo\")\n",
    "elif asteroide == 20:\n",
    "    print(\"Miren la luz del cielo\")\n",
    "else:\n",
    "    print(\"!Todo excelente¡\")"
   ]
  },
  {
   "cell_type": "code",
   "execution_count": 23,
   "metadata": {},
   "outputs": [
    {
     "name": "stdout",
     "output_type": "stream",
     "text": [
      "!Miren arriba!!Las luces!Corran!\n"
     ]
    }
   ],
   "source": [
    "#Ejercicio 3\n",
    "\n",
    "velocidadasteroide = 25\n",
    "tamanoasteroide = 100\n",
    "if velocidadasteroide > 25 and tamanoasteroide >25:\n",
    "    print(\"!Alerta¡\" \"Vamos a morir\")\n",
    "elif velocidadasteroide >= 20:\n",
    "    print(\"!Miren arriba!\" \"!Las luces\" \"!Corran!\")\n",
    "elif tamanoasteroide < 25:\n",
    "    print(\"¡Tranquilos!¡No pasa nada!\")\n",
    "else:\n",
    "    print(\"¡Tranquilos!¡No pasa nada!\")"
   ]
  },
  {
   "cell_type": "code",
   "execution_count": 24,
   "metadata": {},
   "outputs": [
    {
     "name": "stdout",
     "output_type": "stream",
     "text": [
      "!Alerta¡Vamos a morir\n"
     ]
    }
   ],
   "source": [
    "velocidadasteroide = 25\n",
    "tamanoasteroide = 100\n",
    "if velocidadasteroide > 25 or tamanoasteroide >25:\n",
    "    print(\"!Alerta¡\" \"Vamos a morir\")\n",
    "elif velocidadasteroide >= 20:\n",
    "    print(\"!Miren arriba!\" \"!Las luces\" \"!Corran!\")\n",
    "elif tamanoasteroide < 25:\n",
    "    print(\"¡Tranquilos!¡No pasa nada!\")\n",
    "else:\n",
    "    print(\"¡Tranquilos!¡No pasa nada!\")"
   ]
  },
  {
   "cell_type": "code",
   "execution_count": 25,
   "metadata": {},
   "outputs": [
    {
     "name": "stdout",
     "output_type": "stream",
     "text": [
      "¡Tranquilos!¡No pasa nada!\n"
     ]
    }
   ],
   "source": [
    "velocidadasteroide = 19\n",
    "tamanoasteroide = 100\n",
    "if velocidadasteroide > 25 and tamanoasteroide >25:\n",
    "    print(\"!Alerta¡\" \"Vamos a morir\")\n",
    "elif velocidadasteroide >= 20:\n",
    "    print(\"!Miren arriba!\" \"!Las luces\" \"!Corran!\")\n",
    "elif tamanoasteroide < 25:\n",
    "    print(\"¡Tranquilos!¡No pasa nada!\")\n",
    "else:\n",
    "    print(\"¡Tranquilos!¡No pasa nada!\")"
   ]
  }
 ],
 "metadata": {
  "interpreter": {
   "hash": "aee8b7b246df8f9039afb4144a1f6fd8d2ca17a180786b69acc140d282b71a49"
  },
  "kernelspec": {
   "display_name": "Python 3.10.2 64-bit",
   "language": "python",
   "name": "python3"
  },
  "language_info": {
   "codemirror_mode": {
    "name": "ipython",
    "version": 3
   },
   "file_extension": ".py",
   "mimetype": "text/x-python",
   "name": "python",
   "nbconvert_exporter": "python",
   "pygments_lexer": "ipython3",
   "version": "3.10.2"
  },
  "orig_nbformat": 4
 },
 "nbformat": 4,
 "nbformat_minor": 2
}
