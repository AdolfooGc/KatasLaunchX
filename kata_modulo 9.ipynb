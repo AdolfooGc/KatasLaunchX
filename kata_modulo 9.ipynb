{
 "cells": [
  {
   "cell_type": "markdown",
   "metadata": {},
   "source": [
    "## Ejercicio 1"
   ]
  },
  {
   "cell_type": "code",
   "execution_count": 48,
   "metadata": {},
   "outputs": [],
   "source": [
    "def informe_gas(tanque_1, tanque_2, tanque_3):\n",
    "    promedio_total = (tanque_1 + tanque_2 + tanque_3) / 3\n",
    "    return f\"\"\"Reporte de gasolina: \n",
    "    Promedio Total: {promedio_total}%\n",
    "    Tanque 1: {tanque_1}%\n",
    "    Tanque 2: {tanque_2}%\n",
    "    Tanque 3: {tanque_3}%\n",
    "    \"\"\"\n",
    "\n",
    "   \n",
    "    \n",
    "\n"
   ]
  },
  {
   "cell_type": "code",
   "execution_count": 49,
   "metadata": {},
   "outputs": [
    {
     "name": "stdout",
     "output_type": "stream",
     "text": [
      "Reporte de gasolina: \n",
      "    Promedio Total: 81.66666666666667%\n",
      "    Tanque 1: 90%\n",
      "    Tanque 2: 80%\n",
      "    Tanque 3: 75%\n",
      "    \n"
     ]
    }
   ],
   "source": [
    "print(informe_gas(90, 80, 75))"
   ]
  },
  {
   "cell_type": "code",
   "execution_count": 50,
   "metadata": {},
   "outputs": [],
   "source": [
    "# Función promedio \n",
    "def promedio(values):\n",
    "    total = sum(values)\n",
    "    numero_de = len(values)\n",
    "    return total / numero_de"
   ]
  },
  {
   "cell_type": "code",
   "execution_count": 51,
   "metadata": {},
   "outputs": [
    {
     "data": {
      "text/plain": [
       "80.66666666666667"
      ]
     },
     "execution_count": 51,
     "metadata": {},
     "output_type": "execute_result"
    }
   ],
   "source": [
    "promedio([86,64,92])"
   ]
  },
  {
   "cell_type": "code",
   "execution_count": 52,
   "metadata": {},
   "outputs": [],
   "source": [
    "def informe_gas(tanque_1, tanque_2, tanque_3):\n",
    "    return f\"\"\"Reporte de gasolina: \n",
    "    Promedio Total: {promedio([tanque_1, tanque_2, tanque_3])}%\n",
    "    Tanque 1: {tanque_1}%\n",
    "    Tanque 2: {tanque_2}%\n",
    "    Tanque 3: {tanque_3}%\n",
    "    \"\"\""
   ]
  },
  {
   "cell_type": "code",
   "execution_count": 53,
   "metadata": {},
   "outputs": [
    {
     "name": "stdout",
     "output_type": "stream",
     "text": [
      "Reporte de gasolina: \n",
      "    Promedio Total: 86.0%\n",
      "    Tanque 1: 88%\n",
      "    Tanque 2: 77%\n",
      "    Tanque 3: 93%\n",
      "    \n"
     ]
    }
   ],
   "source": [
    "print(informe_gas(88, 77, 93))"
   ]
  },
  {
   "cell_type": "markdown",
   "metadata": {},
   "source": [
    "## Ejercicio 2"
   ]
  },
  {
   "cell_type": "code",
   "execution_count": 67,
   "metadata": {},
   "outputs": [],
   "source": [
    "# Función con un informe preciso de la misión. Considera hora de prelanzamiento, tiempo de vuelo, destino, tanque externo y tanque interno\n",
    "\n",
    "def informe_mision(pre_lanzamiento, tiempo_vuelo, destino, tanque_externo, tanque_interno):\n",
    "    return f\"\"\"\n",
    "    Mision hacia {destino}\n",
    "    Tiempo total viaje: {pre_lanzamiento + tiempo_vuelo} minutos\n",
    "    Combustible total: {tanque_externo + tanque_interno} galones\n",
    "    \"\"\"\n",
    "\n",
    "\n"
   ]
  },
  {
   "cell_type": "code",
   "execution_count": 82,
   "metadata": {},
   "outputs": [
    {
     "name": "stdout",
     "output_type": "stream",
     "text": [
      "\n",
      "    Mision hacia Estacion Espacial Intl.\n",
      "    Tiempo total viaje: 180 minutos\n",
      "    Combustible total: 380000 galones\n",
      "    \n"
     ]
    }
   ],
   "source": [
    "print(informe_mision(90,90,'Estacion Espacial Intl.', 180000, 200000))"
   ]
  },
  {
   "cell_type": "code",
   "execution_count": 83,
   "metadata": {},
   "outputs": [],
   "source": [
    "def informe_mision(destino , *minutos, **combustible_reserva ):\n",
    "    return f\"\"\"\n",
    "    Mision hacia {destino}\n",
    "    Tiempo total viaje: {sum(minutos)} minutos\n",
    "    Combustible total: {sum(combustible_reserva.values())}\n",
    "    \"\"\""
   ]
  },
  {
   "cell_type": "code",
   "execution_count": 87,
   "metadata": {},
   "outputs": [
    {
     "name": "stdout",
     "output_type": "stream",
     "text": [
      "\n",
      "    Mision hacia Estacion Espacial Intl\n",
      "    Tiempo total viaje: 180 minutos\n",
      "    Combustible total: 380000\n",
      "    \n"
     ]
    }
   ],
   "source": [
    "print(informe_mision(\"Estacion Espacial Intl\",60,60,60, interno=200000, externo=180000))"
   ]
  },
  {
   "cell_type": "code",
   "execution_count": 103,
   "metadata": {},
   "outputs": [
    {
     "name": "stdout",
     "output_type": "stream",
     "text": [
      "\n",
      "    Mision hacia Estacion Espacial Intl\n",
      "    Tiempo total viaje: 180 minutos\n",
      "    Combustible total: 380000\n",
      "    principal tanque --> 200000 galones disponibles\n",
      "externo tanque --> 180000 galones disponibles\n",
      "\n"
     ]
    }
   ],
   "source": [
    "def informe_mision(destino , *minutos, **combustible_reserva):\n",
    "   reporte_oficial = f\"\"\"\n",
    "    Mision hacia {destino}\n",
    "    Tiempo total viaje: {sum(minutos)} minutos\n",
    "    Combustible total: {sum(combustible_reserva.values())}\n",
    "    \"\"\"\n",
    "   for nombre_tanque, galones in combustible_reserva.items():\n",
    "        reporte_oficial += f\"{nombre_tanque} tanque --> {galones} galones disponibles\\n\"\n",
    "   return reporte_oficial\n",
    "\n",
    "print(informe_mision(\"Estacion Espacial Intl\",60 ,60 ,60, principal=200000, externo=180000))"
   ]
  }
 ],
 "metadata": {
  "interpreter": {
   "hash": "aee8b7b246df8f9039afb4144a1f6fd8d2ca17a180786b69acc140d282b71a49"
  },
  "kernelspec": {
   "display_name": "Python 3.10.2 64-bit",
   "language": "python",
   "name": "python3"
  },
  "language_info": {
   "codemirror_mode": {
    "name": "ipython",
    "version": 3
   },
   "file_extension": ".py",
   "mimetype": "text/x-python",
   "name": "python",
   "nbconvert_exporter": "python",
   "pygments_lexer": "ipython3",
   "version": "3.10.2"
  },
  "orig_nbformat": 4
 },
 "nbformat": 4,
 "nbformat_minor": 2
}
