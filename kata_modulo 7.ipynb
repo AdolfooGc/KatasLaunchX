{
 "cells": [
  {
   "cell_type": "code",
   "execution_count": 12,
   "metadata": {},
   "outputs": [],
   "source": [
    "nuevo_planeta = ''\n",
    "planetas = []"
   ]
  },
  {
   "cell_type": "code",
   "execution_count": 13,
   "metadata": {},
   "outputs": [],
   "source": [
    "while nuevo_planeta.lower() != 'listo':\n",
    "    if nuevo_planeta:\n",
    "        planetas.append(nuevo_planeta)\n",
    "    nuevo_planeta = input('Ingresa el nombre del planeta (escribe \"listo\" para finalizar) ')\n"
   ]
  },
  {
   "cell_type": "code",
   "execution_count": 15,
   "metadata": {},
   "outputs": [
    {
     "name": "stdout",
     "output_type": "stream",
     "text": [
      "Marte\n",
      "Tierra\n",
      "Saturno\n",
      "Urano\n",
      "Pluton\n",
      "Jupiter\n"
     ]
    }
   ],
   "source": [
    "for planeta in planetas:\n",
    "    print(planeta)"
   ]
  },
  {
   "cell_type": "code",
   "execution_count": 22,
   "metadata": {},
   "outputs": [
    {
     "name": "stdout",
     "output_type": "stream",
     "text": [
      "El primer planeta es Marte\n",
      "El segundo planeta es Tierra\n",
      "El tercer planeta es Saturno\n",
      "El ultimo planeta es Jupiter\n"
     ]
    }
   ],
   "source": [
    "print(\"El primer planeta es\", planetas[0])\n",
    "print(\"El segundo planeta es\", planetas[1])\n",
    "print(\"El tercer planeta es\", planetas[2])\n",
    "print(\"El ultimo planeta es\", planetas[-1])\n"
   ]
  }
 ],
 "metadata": {
  "interpreter": {
   "hash": "aee8b7b246df8f9039afb4144a1f6fd8d2ca17a180786b69acc140d282b71a49"
  },
  "kernelspec": {
   "display_name": "Python 3.10.2 64-bit",
   "language": "python",
   "name": "python3"
  },
  "language_info": {
   "codemirror_mode": {
    "name": "ipython",
    "version": 3
   },
   "file_extension": ".py",
   "mimetype": "text/x-python",
   "name": "python",
   "nbconvert_exporter": "python",
   "pygments_lexer": "ipython3",
   "version": "3.10.2"
  },
  "orig_nbformat": 4
 },
 "nbformat": 4,
 "nbformat_minor": 2
}
